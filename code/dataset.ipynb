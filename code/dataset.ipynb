{
 "cells": [
  {
   "cell_type": "code",
   "execution_count": 2,
   "id": "0a87e662",
   "metadata": {},
   "outputs": [
    {
     "name": "stdout",
     "output_type": "stream",
     "text": [
      "AnnData object with n_obs × n_vars = 3000 × 2000\n",
      "    obs: 'batch', 'mt_frac', 'n_genes', 'n_counts', 'doublet_score', 'predicted_doublet', 'leiden-1', 'UCell_Adrenergic neurons', 'UCell_Anterior pituitary gland cells', 'UCell_Astrocytes', 'UCell_Bergmann glia', 'UCell_Cajal-Retzius cells', 'UCell_Cholinergic neurons', 'UCell_Choroid plexus cells', 'UCell_Dopaminergic neurons', 'UCell_Ependymal cells', 'UCell_Erythroblasts', 'UCell_Erythroid-like and erythroid precursor cells', 'UCell_GABAergic neurons', 'UCell_Glutaminergic neurons', 'UCell_Glycinergic neurons', 'UCell_Immature neurons', 'UCell_Interneurons', 'UCell_Meningeal cells', 'UCell_Microglia', 'UCell_Motor neurons', 'UCell_Neural stem or precursor cells', 'UCell_Neuroblasts', 'UCell_Neuroendocrine cells', 'UCell_Neurons', 'UCell_Noradrenergic neurons', 'UCell_Oligodendrocyte progenitor cells', 'UCell_Oligodendrocytes', 'UCell_Pinealocytes', 'UCell_Platelets', 'UCell_Purkinje neurons', 'UCell_Pyramidal cells', 'UCell_Radial glia cells', 'UCell_Reticulocytes', 'UCell_Retinal ganglion cells', 'UCell_Satellite glial cells', 'UCell_Schwann cells', 'UCell_Serotonergic neurons', 'UCell_Tanycytes', 'UCell_Trigeminal neurons', 'annotation'\n",
      "    var: 'gene_ids', 'feature_types', 'genome', 'n_cells', 'highly_variable', 'means', 'dispersions', 'dispersions_norm'\n",
      "    uns: 'CellPhoneDB_means', 'CellPhoneDB_pvalues', 'UCell_Assign', 'annotation_colors', 'dendrogram_annotation', 'hvg', 'leiden-1', 'leiden-1_colors', 'log1p', 'neighbors', 'pca', 'rank_genes_groups', 'scrublet', 'tsne', 'umap'\n",
      "    obsm: 'AUCell_rankings', 'X_pca', 'X_pca_harmony', 'X_tsne', 'X_umap'\n",
      "    varm: 'PCs'\n",
      "    layers: 'Raw'\n",
      "    obsp: 'connectivities', 'distances'\n"
     ]
    },
    {
     "name": "stderr",
     "output_type": "stream",
     "text": [
      "d:\\anaconda\\envs\\py312\\Lib\\site-packages\\anndata\\_core\\anndata.py:1756: UserWarning: Observation names are not unique. To make them unique, call `.obs_names_make_unique`.\n",
      "  utils.warn_names_duplicates(\"obs\")\n"
     ]
    }
   ],
   "source": [
    "import scanpy as sc\n",
    "\n",
    "\n",
    "adata = sc.read_h5ad(\"sc_sampled.h5ad\")\n",
    "\n",
    "# 查看基本信息\n",
    "print(adata)\n",
    "\n"
   ]
  },
  {
   "cell_type": "code",
   "execution_count": 3,
   "id": "f27d21b8",
   "metadata": {},
   "outputs": [
    {
     "name": "stdout",
     "output_type": "stream",
     "text": [
      "                            batch  mt_frac  n_genes  n_counts  doublet_score  \\\n",
      "TTCACCCTAAACGA-1-ventral  ventral      0.0      622    1427.0       0.041667   \n",
      "CTTGAGGATGCTCC-1-ventral  ventral      0.0      594    1171.0       0.049420   \n",
      "TGGCACCTGCGAAG-1-ventral  ventral      0.0      773    1775.0       0.024052   \n",
      "TATACGCTCCGTAA-1-dorsal    dorsal      0.0      653    1524.0       0.041667   \n",
      "TTTCACGAGGTGTT-1-dorsal    dorsal      0.0      755    1743.0       0.037726   \n",
      "\n",
      "                          predicted_doublet leiden-1  \\\n",
      "TTCACCCTAAACGA-1-ventral              False        5   \n",
      "CTTGAGGATGCTCC-1-ventral              False        9   \n",
      "TGGCACCTGCGAAG-1-ventral              False        6   \n",
      "TATACGCTCCGTAA-1-dorsal               False        5   \n",
      "TTTCACGAGGTGTT-1-dorsal               False        2   \n",
      "\n",
      "                          UCell_Adrenergic neurons  \\\n",
      "TTCACCCTAAACGA-1-ventral                       0.0   \n",
      "CTTGAGGATGCTCC-1-ventral                       0.0   \n",
      "TGGCACCTGCGAAG-1-ventral                       0.0   \n",
      "TATACGCTCCGTAA-1-dorsal                        0.0   \n",
      "TTTCACGAGGTGTT-1-dorsal                        0.0   \n",
      "\n",
      "                          UCell_Anterior pituitary gland cells  \\\n",
      "TTCACCCTAAACGA-1-ventral                              0.028887   \n",
      "CTTGAGGATGCTCC-1-ventral                              0.061797   \n",
      "TGGCACCTGCGAAG-1-ventral                              0.000000   \n",
      "TATACGCTCCGTAA-1-dorsal                               0.000000   \n",
      "TTTCACGAGGTGTT-1-dorsal                               0.000000   \n",
      "\n",
      "                          UCell_Astrocytes  ...  UCell_Pyramidal cells  \\\n",
      "TTCACCCTAAACGA-1-ventral          0.024313  ...               0.000000   \n",
      "CTTGAGGATGCTCC-1-ventral          0.017251  ...               0.027812   \n",
      "TGGCACCTGCGAAG-1-ventral          0.000000  ...               0.034332   \n",
      "TATACGCTCCGTAA-1-dorsal           0.021887  ...               0.024830   \n",
      "TTTCACGAGGTGTT-1-dorsal           0.059461  ...               0.000000   \n",
      "\n",
      "                          UCell_Radial glia cells  UCell_Reticulocytes  \\\n",
      "TTCACCCTAAACGA-1-ventral                 0.075254                  0.0   \n",
      "CTTGAGGATGCTCC-1-ventral                 0.000000                  0.0   \n",
      "TGGCACCTGCGAAG-1-ventral                 0.000000                  0.0   \n",
      "TATACGCTCCGTAA-1-dorsal                  0.062173                  0.0   \n",
      "TTTCACGAGGTGTT-1-dorsal                  0.067713                  0.0   \n",
      "\n",
      "                          UCell_Retinal ganglion cells  \\\n",
      "TTCACCCTAAACGA-1-ventral                      0.000000   \n",
      "CTTGAGGATGCTCC-1-ventral                      0.000000   \n",
      "TGGCACCTGCGAAG-1-ventral                      0.039105   \n",
      "TATACGCTCCGTAA-1-dorsal                       0.000000   \n",
      "TTTCACGAGGTGTT-1-dorsal                       0.006152   \n",
      "\n",
      "                          UCell_Satellite glial cells  UCell_Schwann cells  \\\n",
      "TTCACCCTAAACGA-1-ventral                          0.0             0.043316   \n",
      "CTTGAGGATGCTCC-1-ventral                          0.0             0.044371   \n",
      "TGGCACCTGCGAAG-1-ventral                          0.0             0.044452   \n",
      "TATACGCTCCGTAA-1-dorsal                           0.0             0.072761   \n",
      "TTTCACGAGGTGTT-1-dorsal                           0.0             0.043722   \n",
      "\n",
      "                          UCell_Serotonergic neurons  UCell_Tanycytes  \\\n",
      "TTCACCCTAAACGA-1-ventral                         0.0         0.052385   \n",
      "CTTGAGGATGCTCC-1-ventral                         0.0         0.085671   \n",
      "TGGCACCTGCGAAG-1-ventral                         0.0         0.000000   \n",
      "TATACGCTCCGTAA-1-dorsal                          0.0         0.000000   \n",
      "TTTCACGAGGTGTT-1-dorsal                          0.0         0.048783   \n",
      "\n",
      "                          UCell_Trigeminal neurons       annotation  \n",
      "TTCACCCTAAACGA-1-ventral                  0.000000     Neuroblasts1  \n",
      "CTTGAGGATGCTCC-1-ventral                  0.041252         Neurons3  \n",
      "TGGCACCTGCGAAG-1-ventral                  0.022723  Pyramidal cells  \n",
      "TATACGCTCCGTAA-1-dorsal                   0.017089     Neuroblasts1  \n",
      "TTTCACGAGGTGTT-1-dorsal                   0.000000       Astrocytes  \n",
      "\n",
      "[5 rows x 46 columns]\n",
      "               gene_ids    feature_types  genome  n_cells  highly_variable  \\\n",
      "FGF11   ENSG00000161958  Gene Expression  GRCh38       32             True   \n",
      "LYRM7   ENSG00000186687  Gene Expression  GRCh38       18             True   \n",
      "COL1A2  ENSG00000164692  Gene Expression  GRCh38       92             True   \n",
      "SPATA5  ENSG00000145375  Gene Expression  GRCh38       86             True   \n",
      "BRDT    ENSG00000137948  Gene Expression  GRCh38       29             True   \n",
      "\n",
      "           means  dispersions  dispersions_norm  \n",
      "FGF11   0.006241     0.421089          0.876674  \n",
      "LYRM7   0.003055     0.514554          1.252210  \n",
      "COL1A2  0.037539     1.744885          6.195606  \n",
      "SPATA5  0.013537     0.377838          0.702895  \n",
      "BRDT    0.004469     0.487662          1.144161  \n",
      "(3000, 2000)\n"
     ]
    }
   ],
   "source": [
    "print(adata.obs.head())\n",
    "print(adata.var.head())\n",
    "print(adata.X.shape)"
   ]
  }
 ],
 "metadata": {
  "kernelspec": {
   "display_name": "py312",
   "language": "python",
   "name": "python3"
  },
  "language_info": {
   "codemirror_mode": {
    "name": "ipython",
    "version": 3
   },
   "file_extension": ".py",
   "mimetype": "text/x-python",
   "name": "python",
   "nbconvert_exporter": "python",
   "pygments_lexer": "ipython3",
   "version": "3.12.0"
  }
 },
 "nbformat": 4,
 "nbformat_minor": 5
}
